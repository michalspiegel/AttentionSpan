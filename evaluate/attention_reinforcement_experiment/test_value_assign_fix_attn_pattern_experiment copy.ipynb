{
 "cells": [
    {
     "cell_type": "code",
     "execution_count": null,
     "id": "test_compute_scores",
     "metadata": {},
     "outputs": [],
     "source": [
        "import torch\n",
        "import numpy as np\n",
        "from functools import partial\n",
        "\n",
        "def test_compute_scores():\n",
        "    logits = torch.tensor([[[2.0, 0.5], [0.1, 3.0]], [[1.0, 2.0], [3.0, 0.1]]])\n",
        "    target = torch.tensor([[0, 1], [1, -100]])\n",
        "    loss, accuracy = compute_scores(logits, target)\n",
        "    assert isinstance(loss, float), \"Loss should be a float.\"\n",
        "    assert 0.0 <= accuracy <= 1.0, \"Accuracy should be between 0 and 1.\"\n",
        "    print(\"test_compute_scores passed.\")\n",
        "\n",
        "test_compute_scores()"
     ]
    },
    {
     "cell_type": "code",
     "execution_count": null,
     "id": "test_fix_attn_pattern_hook",
     "metadata": {},
     "outputs": [],
     "source": [
        "def test_fix_attn_pattern_hook():\n",
        "    value = torch.zeros((1, 16, 10, 10))\n",
        "    attn_labels_1_idx = {(2, 3), (4, 5)}\n",
        "    heads_to_reinforce = {9: 4}\n",
        "    attn_labels = torch.zeros((10, 10))\n",
        "    keep_last_n_tokens = 5\n",
        "    \n",
        "    def mock_visualize_attention_heads(*args, **kwargs):\n",
        "        pass\n",
        "    \n",
        "    global visualize_attention_heads\n",
        "    visualize_attention_heads = mock_visualize_attention_heads\n",
        "    \n",
        "    hook = type('HookPoint', (object,), {'name': 'blocks.9.attn.hook_pattern'})()\n",
        "    modified_value = fix_attn_pattern_hook(value, hook, attn_labels_1_idx, heads_to_reinforce, attn_labels, keep_last_n_tokens)\n",
        "    assert modified_value.shape == value.shape, \"Output tensor shape should match input tensor shape.\"\n",
        "    print(\"test_fix_attn_pattern_hook passed.\")\n",
        "\n",
        "test_fix_attn_pattern_hook()"
     ]
    }
 ],
 "metadata": {
    "kernelspec": {
     "display_name": "Python 3",
     "language": "python",